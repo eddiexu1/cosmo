{
 "cells": [
  {
   "cell_type": "code",
   "execution_count": 1,
   "metadata": {},
   "outputs": [],
   "source": [
    "import sys\n",
    "sys.path.append(\"../\")"
   ]
  },
  {
   "cell_type": "code",
   "execution_count": 2,
   "metadata": {},
   "outputs": [
    {
     "name": "stdout",
     "output_type": "stream",
     "text": [
      "/Users/eddiexu/nlp/CosMo\r\n"
     ]
    }
   ],
   "source": [
    "!pwd"
   ]
  },
  {
   "cell_type": "code",
   "execution_count": 3,
   "metadata": {},
   "outputs": [],
   "source": [
    "from data.fashionIQ import FashionIQDataset, FashionIQTestQueryDataset\n",
    "\n",
    "clothing_types = [\"dress\", \"shirt\", \"toptee\"]\n",
    "datasets = []\n",
    "for clothing in clothing_types:\n",
    "    datasets.append(FashionIQDataset(clothing_type=clothing))\n",
    "    datasets.append(FashionIQTestQueryDataset(clothing_type=clothing))\n",
    "caption_positions = [2 for _ in datasets]"
   ]
  },
  {
   "cell_type": "code",
   "execution_count": 4,
   "metadata": {},
   "outputs": [],
   "source": [
    "from language.vocabulary import SimpleVocabulary\n",
    "from language.tokenizers import NltkTokenizer\n",
    "from language.utils import create_read_func, create_write_func"
   ]
  },
  {
   "cell_type": "code",
   "execution_count": 5,
   "metadata": {
    "scrolled": true
   },
   "outputs": [
    {
     "name": "stderr",
     "output_type": "stream",
     "text": [
      "100%|████████████████████████████████████████████████████████████████████████████████| 11970/11970 [00:38<00:00, 313.02it/s]\n",
      "100%|██████████████████████████████████████████████████████████████████████████████████| 4034/4034 [00:06<00:00, 608.18it/s]\n",
      "100%|████████████████████████████████████████████████████████████████████████████████| 11976/11976 [00:40<00:00, 296.05it/s]\n",
      "100%|██████████████████████████████████████████████████████████████████████████████████| 4076/4076 [00:07<00:00, 580.22it/s]\n",
      "100%|████████████████████████████████████████████████████████████████████████████████| 12054/12054 [00:42<00:00, 285.59it/s]\n",
      "100%|██████████████████████████████████████████████████████████████████████████████████| 3922/3922 [00:07<00:00, 552.80it/s]\n"
     ]
    },
    {
     "data": {
      "text/plain": [
       "<language.vocabulary.SimpleVocabulary at 0x7fc8a8141d10>"
      ]
     },
     "execution_count": 5,
     "metadata": {},
     "output_type": "execute_result"
    }
   ],
   "source": [
    "tokenizer = NltkTokenizer()\n",
    "write_func = create_write_func('fashion_iq_vocab.pkl')\n",
    "read_func = create_read_func('fashion_iq_vocab.pkl')\n",
    "SimpleVocabulary.create_and_store_vocabulary_from_datasets(datasets, tokenizer, write_func, caption_pos=caption_positions)"
   ]
  },
  {
   "cell_type": "code",
   "execution_count": 6,
   "metadata": {},
   "outputs": [
    {
     "name": "stdout",
     "output_type": "stream",
     "text": [
      "4676\n"
     ]
    }
   ],
   "source": [
    "vocab = SimpleVocabulary.create_vocabulary_from_storage(read_func)\n",
    "print(len(vocab))"
   ]
  },
  {
   "cell_type": "code",
   "execution_count": null,
   "metadata": {},
   "outputs": [],
   "source": []
  }
 ],
 "metadata": {
  "interpreter": {
   "hash": "31f2aee4e71d21fbe5cf8b01ff0e069b9275f58929596ceb00d14d90e3e16cd6"
  },
  "kernelspec": {
   "display_name": "Python 3 (ipykernel)",
   "language": "python",
   "name": "python3"
  },
  "language_info": {
   "codemirror_mode": {
    "name": "ipython",
    "version": 3
   },
   "file_extension": ".py",
   "mimetype": "text/x-python",
   "name": "python",
   "nbconvert_exporter": "python",
   "pygments_lexer": "ipython3",
   "version": "3.7.13"
  }
 },
 "nbformat": 4,
 "nbformat_minor": 4
}
